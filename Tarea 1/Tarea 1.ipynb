{
 "cells": [
  {
   "cell_type": "code",
   "execution_count": 1,
   "id": "aa7bb66e",
   "metadata": {},
   "outputs": [],
   "source": [
    "# ESAI\n",
    "import numpy as np \n",
    "import pandas as pd\n",
    "import matplotlib.pyplot as plt\n",
    "from scipy.optimize import curve_fit"
   ]
  },
  {
   "cell_type": "markdown",
   "id": "7393c1c6",
   "metadata": {},
   "source": [
    "<h1 align='center'>Tarea 1: Cúmulos abiertos</h1>\n",
    "\n",
    "Los puntos 4.1 al 4.5 del Karttunen se encuentran en el PDF adjunto a esta tarea\n",
    "\n",
    "### Magnitud aparente de un avión\n",
    "\n",
    "Para este punto, queremos saber cómo cambia la magnitud aparente de un avión a medida que va aterrizando. Lo primero que debemos conocer es la potencia de los bombillos de aterrizaje de un avión (Los bombillos de despegue tienen especificaciones diferentes). La mayoría de aviones Boeing y Airbus utilizan bombillos incadescentes Oshino Q4559X (De acuerdo con <a href=\"https://aerosavvy.com/airplane-lights/\">AeroSavvy</a>). Buscando estos bombillos en la página de <a href=\"https://shop.boeing.com/aviation-supply/p/Q4559X=1F\">Boeing</a>, estos bombillos tienen una potencia de 600 W.\n",
    "\n",
    "Para motivos de este ejercicio, tomaremos un bombillo individual de los de un avión y calcularemos su magnitud aparente a distintas distancias, con el fin de visualizar cómo varía la magnitud a medida que el avión va aterrizando. Tomamos solo uno para seguir el procedimiento de Chandra D. en su artículo: <a href=\"https://iopscience.iop.org/article/10.1088/1361-6552/aacae5#:~:text=Apparent%20magnitudes%20of%20incandescent%20lamps,-Incandescent%20lamps%20are&text=The%20apparent%20magnitude%20of%20an,as%20per%20proposition%20of%20Heafner.\"> Escala de magnitud aparente: lámparas incadescentes</a>.\n",
    "\n",
    "De acuerdo con Chandra, el flujo a una distancia determinada se calcula como:\n",
    "$$F = \\frac{Q(\\lambda_i \\rightarrow \\lambda_f)}{4\\pi d^2},$$ donde $Q(\\lambda_i \\rightarrow \\lambda_f)$ es el flujo de superficie medido en lumens.\n",
    "\n",
    "Lo primero que debemos hacer es conocer a cuánto equivalen los 600 W del bombillo del avión a lumens. En el artículo, tenemos la equivalencia de Watts a lumens para 4 valores para bombillos incadescendentes de tungsteno. Esto se ve en el siguiente dataframe:"
   ]
  },
  {
   "cell_type": "code",
   "execution_count": 2,
   "id": "bab9d525",
   "metadata": {},
   "outputs": [
    {
     "data": {
      "text/html": [
       "<div>\n",
       "<style scoped>\n",
       "    .dataframe tbody tr th:only-of-type {\n",
       "        vertical-align: middle;\n",
       "    }\n",
       "\n",
       "    .dataframe tbody tr th {\n",
       "        vertical-align: top;\n",
       "    }\n",
       "\n",
       "    .dataframe thead th {\n",
       "        text-align: right;\n",
       "    }\n",
       "</style>\n",
       "<table border=\"1\" class=\"dataframe\">\n",
       "  <thead>\n",
       "    <tr style=\"text-align: right;\">\n",
       "      <th></th>\n",
       "      <th>Watts</th>\n",
       "      <th>Lumens</th>\n",
       "    </tr>\n",
       "  </thead>\n",
       "  <tbody>\n",
       "    <tr>\n",
       "      <th>0</th>\n",
       "      <td>10</td>\n",
       "      <td>80</td>\n",
       "    </tr>\n",
       "    <tr>\n",
       "      <th>1</th>\n",
       "      <td>100</td>\n",
       "      <td>1920</td>\n",
       "    </tr>\n",
       "    <tr>\n",
       "      <th>2</th>\n",
       "      <td>1000</td>\n",
       "      <td>23740</td>\n",
       "    </tr>\n",
       "    <tr>\n",
       "      <th>3</th>\n",
       "      <td>10000</td>\n",
       "      <td>335000</td>\n",
       "    </tr>\n",
       "  </tbody>\n",
       "</table>\n",
       "</div>"
      ],
      "text/plain": [
       "   Watts  Lumens\n",
       "0     10      80\n",
       "1    100    1920\n",
       "2   1000   23740\n",
       "3  10000  335000"
      ]
     },
     "execution_count": 2,
     "metadata": {},
     "output_type": "execute_result"
    }
   ],
   "source": [
    "watts_lumens = pd.DataFrame([[10, 80], [100, 1920], [1000,23740], [10000,335000]], columns=['Watts', 'Lumens'])\n",
    "watts_lumens"
   ]
  },
  {
   "cell_type": "markdown",
   "id": "0011a22f",
   "metadata": {},
   "source": [
    "Ahora, la potencia en Watts se puede calcular como: $$P(W) = \\frac{\\phi_V(\\mathrm{lm})}{\\eta(\\mathrm{lm}/W)} \\rightarrow \\phi_V(\\mathrm{lm}) = \\eta(\\mathrm{lm}/W)P(W) ,$$ donde $\\phi_V(\\mathrm{lm})$ es el flujo luminoso medido en lumens y $\\eta(\\mathrm{lm}/W)$, la eficacia luminosa (en lm/W). Conociendo la potencia en Watts y su equivalencia en lumens, podemos realizar una regresión lineal y calcular a cuántos lumens equivalen los 600 W del bombillo del avión:"
   ]
  },
  {
   "cell_type": "code",
   "execution_count": 3,
   "id": "28f7f952",
   "metadata": {},
   "outputs": [],
   "source": [
    "def linear(x,m,b): return m*x + b\n",
    "popt, _ = curve_fit(linear, watts_lumens['Watts'], watts_lumens['Lumens'])"
   ]
  },
  {
   "cell_type": "markdown",
   "id": "5004149a",
   "metadata": {},
   "source": [
    "De esta forma, en lumens, los 600 W del bombillo del avión son:"
   ]
  },
  {
   "cell_type": "code",
   "execution_count": 4,
   "id": "6af53e0c",
   "metadata": {},
   "outputs": [
    {
     "name": "stdout",
     "output_type": "stream",
     "text": [
      "Flujo de la superficie (Tungsteno):  16559.51\n"
     ]
    }
   ],
   "source": [
    "Q = 600*popt[0] + popt[1]\n",
    "print('Flujo de la superficie (Tungsteno): ', np.round(Q, 2))"
   ]
  },
  {
   "cell_type": "markdown",
   "id": "bac1d9bc",
   "metadata": {},
   "source": [
    "Esta es una buena aproximación. No obstante, de acuerdo con <a href=\"https://shop.boeing.com/aviation-supply/p/Q4559X=1F\">Boeing</a>, el tipo de filamento de sus bombillos es **halógeno**, entonces el valor de $\\eta$(lm$/W)$, es distinto. De acuerdo con <a href=\"https://www.rapidtables.com/calc/light/watt-to-lumen-calculator.html\"> lo que encontré</a>, para los bombillos halógenos, $\\eta = 20$(lm$/W)$. Entonces,"
   ]
  },
  {
   "cell_type": "code",
   "execution_count": 5,
   "id": "766f24c0",
   "metadata": {},
   "outputs": [
    {
     "name": "stdout",
     "output_type": "stream",
     "text": [
      "Flujo de la superficie (Halógeno):  12000\n"
     ]
    }
   ],
   "source": [
    "Q = 600*20\n",
    "print('Flujo de la superficie (Halógeno): ', np.round(Q, 2))"
   ]
  },
  {
   "cell_type": "markdown",
   "id": "5a89773f",
   "metadata": {},
   "source": [
    "Ya habiendo encontrado el flujo de la superficie, podemos hallar la magnitud para varias distancias a partir del flujo. \n",
    "\n",
    "Según lo visto en clase y de acuerdo con Chandra,\n",
    "$$m = -2.5\\log_{10}\\left ( \\frac{F}{F_{\\mathrm{Vega}}}\\right),$$ donde $F$ es el flujo del bombillo del avión y $F_{\\mathrm{Vega}} = 2.56 \\cdot 10^{-6} \\mathrm{lm}\\cdot\\mathrm{m}^{-2}$ es el flujo de la estrella de referencia Vega cuya magnitud aparente es $m = 0$. \n",
    "\n",
    "De esta forma, usando la ecuación del flujo,\n",
    "$$m = -2.5 \\log_{10} \\left (\\frac{1}{4\\pi d^2} \\frac{Q(\\lambda_i \\rightarrow \\lambda_f)}{F_{\\mathrm{Vega}}}\\right) =  -2.5 \\log_{10} \\left (\\frac{1}{4\\pi d^2} \\frac{12000 \\;\\mathrm{lm}}{2.56 \\cdot 10^{-6} \\;\\mathrm{lm}\\cdot\\mathrm{m}^{-2}}\\right),$$ con la distancia $d$ medida en metros.\n",
    "\n",
    "Para este ejercicio, veamos cómo varía la magnitud para distancias entre 1 m y 500 km."
   ]
  },
  {
   "cell_type": "code",
   "execution_count": 6,
   "id": "28f88e9d",
   "metadata": {},
   "outputs": [],
   "source": [
    "d = np.linspace(1, 500*10**3,1000)"
   ]
  },
  {
   "cell_type": "code",
   "execution_count": 7,
   "id": "5291073c",
   "metadata": {},
   "outputs": [],
   "source": [
    "m = -2.5*np.log10((1/(4*np.pi*(d**2)))*(12000/(2.56*10**-6)) )"
   ]
  },
  {
   "cell_type": "markdown",
   "id": "94c17d45",
   "metadata": {},
   "source": [
    "Graficando,"
   ]
  },
  {
   "cell_type": "code",
   "execution_count": 8,
   "id": "b010092c",
   "metadata": {},
   "outputs": [
    {
     "data": {
      "image/png": "[encoded data removed]",
      "text/plain": [
       "<Figure size 720x504 with 1 Axes>"
      ]
     },
     "metadata": {
      "needs_background": "light"
     },
     "output_type": "display_data"
    }
   ],
   "source": [
    "fig, ax= plt.subplots(figsize=(10,7))\n",
    "plt.plot(d,m,c='lightpink')\n",
    "plt.xlabel('Distancia al avión [m]')\n",
    "plt.ylabel('Magnitud aparente del bombillo del avión')\n",
    "plt.title('Magnitud aparente del bombillo de un avión en función de la distancia')\n",
    "ax.spines['top'].set_visible(False)\n",
    "ax.spines['right'].set_visible(False)\n",
    "#plt.gca().invert_yaxis() # Si lo volteo?\n",
    "plt.show()"
   ]
  },
  {
   "cell_type": "markdown",
   "id": "28b253c5",
   "metadata": {},
   "source": [
    "Note que, a medida que aumenta la distancia, la magnitud incrementa también. Esto significa que, a distancias más pequeñas, el bombillo es más brillante (como es de esperarse).\n",
    "\n",
    "Note que la magnitud aumenta muy rápido para distancias pequeñas. Si miramos el gráfico solamente para los 100 primeros metros, vemos que la magnitud incremente rápidamente (al tener un comportamiento logarítmico)."
   ]
  },
  {
   "cell_type": "code",
   "execution_count": 11,
   "id": "5ddebb54",
   "metadata": {},
   "outputs": [
    {
     "data": {
      "image/png": "[encoded data removed]",
      "text/plain": [
       "<Figure size 720x504 with 1 Axes>"
      ]
     },
     "metadata": {
      "needs_background": "light"
     },
     "output_type": "display_data"
    }
   ],
   "source": [
    "d_1 = np.linspace(1, 100)\n",
    "m_1 = -2.5*np.log10((1/(4*np.pi*(d_1**2)))*(12000/(2.56*10**-6)) )\n",
    "fig, ax= plt.subplots(figsize=(10,7))\n",
    "plt.plot(d_1,m_1,c='lightpink')\n",
    "plt.xlabel('Distancia al avión [m]')\n",
    "plt.ylabel('Magnitud aparente del bombillo del avión')\n",
    "plt.title('Magnitud aparente del bombillo de un avión en función de la distancia')\n",
    "ax.spines['top'].set_visible(False)\n",
    "ax.spines['right'].set_visible(False)\n",
    "#plt.gca().invert_yaxis() # Si lo volteo?\n",
    "plt.show()"
   ]
  },
  {
   "cell_type": "markdown",
   "id": "599fe78b",
   "metadata": {},
   "source": [
    "De acuerdo con Chandra, un valor interesante es la distancia para la cual la magnitud es aproximadamente 6. es decir, cuando empieza a ser visible para el ojo humano. De esta forma, tomamos el valor más cercano a 6 y calculamos la distancia para la cual empieza a ser visible el avión"
   ]
  },
  {
   "cell_type": "code",
   "execution_count": 35,
   "id": "fb760202",
   "metadata": {},
   "outputs": [
    {
     "name": "stdout",
     "output_type": "stream",
     "text": [
      "La distancia a la que el avión empieza a ser visible es: 306.31 km\n"
     ]
    }
   ],
   "source": [
    "m_6 = m[m >= 6][0] # El valor de la magnitud 6\n",
    "i = np.where(m == m_6)[0] # El indice donde ocurre\n",
    "d_6 = d[i][0] # La distancia a la cual el avion empieza a ser visible\n",
    "print('La distancia a la que el avión empieza a ser visible es: {:.2f} km'.format((d_6/1000)))"
   ]
  },
  {
   "cell_type": "markdown",
   "id": "245560a7",
   "metadata": {},
   "source": [
    "Por lo tanto, los humanos empezaríamos a ver el bombillo del avión a partir de 306 km de distancia."
   ]
  },
  {
   "cell_type": "code",
   "execution_count": null,
   "id": "7688a011",
   "metadata": {},
   "outputs": [],
   "source": []
  }
 ],
 "metadata": {
  "kernelspec": {
   "display_name": "Python 3 (ipykernel)",
   "language": "python",
   "name": "python3"
  },
  "language_info": {
   "codemirror_mode": {
    "name": "ipython",
    "version": 3
   },
   "file_extension": ".py",
   "mimetype": "text/x-python",
   "name": "python",
   "nbconvert_exporter": "python",
   "pygments_lexer": "ipython3",
   "version": "3.9.12"
  }
 },
 "nbformat": 4,
 "nbformat_minor": 5
}
